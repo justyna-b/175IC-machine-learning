{
  "nbformat": 4,
  "nbformat_minor": 0,
  "metadata": {
    "colab": {
      "name": "Test.ipynb",
      "provenance": [],
      "collapsed_sections": [],
      "authorship_tag": "ABX9TyOAbClrfcwiQkwO0jYozUnU",
      "include_colab_link": true
    },
    "kernelspec": {
      "name": "python3",
      "display_name": "Python 3"
    }
  },
  "cells": [
    {
      "cell_type": "markdown",
      "metadata": {
        "id": "view-in-github",
        "colab_type": "text"
      },
      "source": [
        "<a href=\"https://colab.research.google.com/github/justyna-b/175IC-machine-learning/blob/main/Zad5.ipynb\" target=\"_parent\"><img src=\"https://colab.research.google.com/assets/colab-badge.svg\" alt=\"Open In Colab\"/></a>"
      ]
    },
    {
      "cell_type": "code",
      "metadata": {
        "id": "MxTVCH0-Rc13",
        "colab": {
          "base_uri": "https://localhost:8080/",
          "height": 438
        },
        "outputId": "e7bce1a5-dd93-4853-9685-8571b7786c96"
      },
      "source": [
        "import pandas as pd\n",
        "import numpy as np\n",
        "import matplotlib.pyplot as plt\n",
        "import seaborn as sns\n",
        "import plotly.express as px\n",
        "from sklearn.ensemble import RandomForestClassifier\n",
        "from sklearn.datasets import load_iris\n",
        "\n",
        "raw_data = load_iris()\n",
        "all_data=raw_data.copy()\n",
        "\n",
        "data=all_data['data']\n",
        "#labels\n",
        "feature_names=all_data['feature_names']\n",
        "#features\n",
        "target=all_data['target']\n",
        "target_names=all_data['target_names']\n",
        "\n",
        "df = pd.DataFrame(data=np.c_[data, target], columns=feature_names + ['target'])\n",
        "X=data[:]\n",
        "y=df['target']\n",
        "#split data to test and train sets\n",
        "#test_size set size of test data to 40% and training to 60%\n",
        "X_train, X_test, y_train, y_test = train_test_split(X, y, test_size=0.4) \n",
        "\n",
        "#Create RandomForestClassifier\n",
        "classifier=RandomForestClassifier(n_estimators=100)\n",
        "#Train the model using the training data\n",
        "classifier.fit(X_train,y_train)\n",
        "y_pred=classifier.predict(X_test)\n",
        "accuracy = metrics.accuracy_score(y_test, y_pred)\n",
        "print(f'Accuracy: {accuracy:.4f}')\n",
        "\n",
        "feature_names\n",
        "feature_imp = pd.Series(classifier.feature_importances_,index=feature_names).sort_values(ascending=False)\n",
        "print(feature_imp)\n",
        "\n",
        "sns.barplot(x=feature_imp, y=feature_imp.index)\n",
        "plt.xlabel('Feature Importance Score')\n",
        "plt.ylabel('Features')\n",
        "plt.title(\"Visualizing Important Features\")\n",
        "plt.legend()\n",
        "plt.show()"
      ],
      "execution_count": 70,
      "outputs": [
        {
          "output_type": "stream",
          "text": [
            "No handles with labels found to put in legend.\n"
          ],
          "name": "stderr"
        },
        {
          "output_type": "stream",
          "text": [
            "Accuracy: 0.9333\n",
            "petal width (cm)     0.516607\n",
            "petal length (cm)    0.352552\n",
            "sepal length (cm)    0.106692\n",
            "sepal width (cm)     0.024150\n",
            "dtype: float64\n"
          ],
          "name": "stdout"
        },
        {
          "output_type": "display_data",
          "data": {
            "image/png": "[encoded data removed]",
            "text/plain": [
              "<Figure size 432x288 with 1 Axes>"
            ]
          },
          "metadata": {
            "tags": [],
            "needs_background": "light"
          }
        }
      ]
    },
    {
      "cell_type": "code",
      "metadata": {
        "id": "J5UykA5UXP5Z"
      },
      "source": [
        ""
      ],
      "execution_count": null,
      "outputs": []
    }
  ]
}