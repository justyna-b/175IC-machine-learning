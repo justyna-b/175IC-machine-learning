{
  "nbformat": 4,
  "nbformat_minor": 0,
  "metadata": {
    "colab": {
      "name": "Test.ipynb",
      "provenance": [],
      "collapsed_sections": [],
      "authorship_tag": "ABX9TyOWD963/6NZzpaWhVkyxHWx",
      "include_colab_link": true
    },
    "kernelspec": {
      "name": "python3",
      "display_name": "Python 3"
    }
  },
  "cells": [
    {
      "cell_type": "markdown",
      "metadata": {
        "id": "view-in-github",
        "colab_type": "text"
      },
      "source": [
        "<a href=\"https://colab.research.google.com/github/justyna-b/175IC-machine-learning/blob/main/Zad1.ipynb\" target=\"_parent\"><img src=\"https://colab.research.google.com/assets/colab-badge.svg\" alt=\"Open In Colab\"/></a>"
      ]
    },
    {
      "cell_type": "code",
      "metadata": {
        "id": "MxTVCH0-Rc13",
        "outputId": "1d30055a-035a-45ac-c857-ebd88f0b099e",
        "colab": {
          "base_uri": "https://localhost:8080/"
        }
      },
      "source": [
        "import numpy as np\n",
        "import sklearn\n",
        "import pandas as pd\n",
        "from sklearn import preprocessing\n",
        "from sklearn.preprocessing import StandardScaler\n",
        "\n",
        "data = {\n",
        "    'size' : ['M', 'L', 'S', 'M', 'XS', 'L', 'L', 'XL', 'S', 'S'],\n",
        "    'color' : ['green', 'blue', 'black', 'pink', 'pink', 'yellow', 'brown', 'grey', 'pink', 'white'],\n",
        "    'gender' : ['male', 'male', 'female', 'female', 'female', 'male', 'female', 'male', 'female', 'female'],\n",
        "    'price' : [129.0 , 99.0, 179.0, 179.0, 230.0, 89.0, 69.0, 149.0, 380.0, 269.0],\n",
        "    'weight' : [380, 290, 330, 310, 410, 350, 250, 570, 480, 390],\n",
        "    'bought' : ['no', 'no', 'yes', 'yes', 'no', 'no', 'yes', 'no', 'no', 'no']\n",
        "}\n",
        "\n",
        "df_raw = pd.DataFrame(data=data)\n",
        "df = df_raw.copy()\n",
        "\n",
        "for col in ['size', 'color', 'gender', 'bought'] :\n",
        "  df[col] = df[col].astype('category')\n",
        "\n",
        "df['weight'] = pd.to_numeric(df['weight'], downcast='float')\n",
        "\n",
        "le = preprocessing.LabelEncoder()\n",
        "df['bought'] = le.fit_transform(df['bought'])\n",
        "\n",
        "df = pd.get_dummies(data=df, drop_first=True)\n",
        "\n",
        "scaler = StandardScaler()\n",
        "df[['price', 'weight']] = scaler.fit_transform(df[['price', 'weight']])\n",
        "\n",
        "print(df['weight'][1])\n",
        "print(\"Justyna Brzezińska\")\n",
        "print(df)\n",
        "# print(df.describe(include='category').T)"
      ],
      "execution_count": 32,
      "outputs": [
        {
          "output_type": "stream",
          "text": [
            "-0.960070203481579\n",
            "Justyna Brzezińska\n",
            "      price    weight  bought  ...  color_white  color_yellow  gender_male\n",
            "0 -0.535326  0.044654       0  ...            0             0            1\n",
            "1 -0.868516 -0.960070       0  ...            0             0            1\n",
            "2  0.019991 -0.513526       1  ...            0             0            0\n",
            "3  0.019991 -0.736798       1  ...            0             0            0\n",
            "4  0.586415  0.379563       0  ...            0             0            0\n",
            "5 -0.979579 -0.290254       0  ...            0             1            1\n",
            "6 -1.201706 -1.406614       1  ...            0             0            0\n",
            "7 -0.313199  2.165740       0  ...            0             0            1\n",
            "8  2.252366  1.161015       0  ...            0             0            0\n",
            "9  1.019562  0.156290       0  ...            1             0            0\n",
            "\n",
            "[10 rows x 15 columns]\n"
          ],
          "name": "stdout"
        }
      ]
    }
  ]
}