{
  "nbformat": 4,
  "nbformat_minor": 0,
  "metadata": {
    "colab": {
      "name": "Test.ipynb",
      "provenance": [],
      "collapsed_sections": [],
      "authorship_tag": "ABX9TyPMuYLtUJ2v+Ca4IFd+bmqm",
      "include_colab_link": true
    },
    "kernelspec": {
      "name": "python3",
      "display_name": "Python 3"
    }
  },
  "cells": [
    {
      "cell_type": "markdown",
      "metadata": {
        "id": "view-in-github",
        "colab_type": "text"
      },
      "source": [
        "<a href=\"https://colab.research.google.com/github/justyna-b/175IC-machine-learning/blob/main/Zad2.ipynb\" target=\"_parent\"><img src=\"https://colab.research.google.com/assets/colab-badge.svg\" alt=\"Open In Colab\"/></a>"
      ]
    },
    {
      "cell_type": "code",
      "metadata": {
        "id": "MxTVCH0-Rc13",
        "colab": {
          "base_uri": "https://localhost:8080/"
        },
        "outputId": "a35c346f-53f6-4114-eeef-5dbc65c89a72"
      },
      "source": [
        "import numpy as np\n",
        "import sklearn\n",
        "import pandas as pd\n",
        "from sklearn import preprocessing\n",
        "from sklearn.preprocessing import StandardScaler\n",
        "from sklearn.impute import SimpleImputer\n",
        "from sklearn.model_selection import train_test_split\n",
        "\n",
        "data = {\n",
        "    'size' : ['M', 'L', 'S', np.nan, 'XS', 'L', 'L', np.nan, 'S', 'S'],\n",
        "    'color' : [np.nan, 'blue', 'black', 'pink', 'pink', np.nan, 'brown', np.nan, 'pink', np.nan],\n",
        "    'gender' : [np.nan, np.nan, np.nan, np.nan, 'female', 'male', np.nan, np.nan, 'female', 'female'],\n",
        "    'price' : [np.nan , np.nan, 179.0, 179.0, 230.0, 89.0, np.nan, 149.0, np.nan, np.nan],\n",
        "    'weight' : [np.nan, np.nan, np.nan, 310, 410, 350, 250, 570, 480, np.nan],\n",
        "    'bought' : ['no', 'no', 'yes', 'yes', 'no', 'no', 'yes', np.nan, 'no', 'no']\n",
        "}\n",
        "\n",
        "df_raw = pd.DataFrame(data=data)\n",
        "df = df_raw.copy()\n",
        "\n",
        "#1. avoid data which have 3 or more none values\n",
        "# thresh: thresh takes integer value which tells minimum amount of na values to drop.\n",
        "df.dropna(thresh=len(df.keys())-2, inplace=True)\n",
        "print(df.isnull().sum())\n",
        "\n",
        "#2. price column - filled with mean value if none\n",
        "si = SimpleImputer(missing_values=np.nan, strategy='mean')\n",
        "df['price'] = si.fit_transform(df[['price']])\n",
        "\n",
        "#3. weight col - filled by interpolate method if none\n",
        "#does not work\n",
        "# df['weight'].fillna(df['weight'].interpolate(), inplace=True)\n",
        "\n",
        "#4. size, color and gender filled with contant values if none\n",
        "df['size'].fillna('unisex', inplace=True)\n",
        "df['color'].fillna('black', inplace=True)\n",
        "df['gender'].fillna('male', inplace=True)\n",
        "print(df)\n",
        "\n",
        "#5. new column \"cost\" to represent prise as a one of states cheap, normal_price, expensive\n",
        "df['cost'] = pd.cut(df['price'], bins=3, labels=['cheap', 'normal_price', 'expensive'])\n",
        "print(df)\n",
        "\n",
        "#6. data from column \"bought\" change to binary representation\n",
        "df['bought_yes'] = df['bought'].apply(lambda x: 1 if 'yes' in x else 0)\n",
        "print(df)\n",
        "\n",
        "#7. Split dictionary to input and output data and to train and test collection\n",
        "\n",
        "df_in = df[['size', 'color', 'gender', 'price', 'weight', 'bought', 'cost']]\n",
        "df_out = df['bought_yes']\n",
        "\n",
        "X_train, X_test, Y_train, Y_test = train_test_split(df_in, df_out)\n",
        "print(\"X_train\",\"\\n\", X_train)\n",
        "print(\"X_test\", \"\\n\", X_test)\n",
        "print(\"Y_train\", \"\\n\", Y_train)\n",
        "print(\"Y_test\", \"\\n\", Y_test)\n"
      ],
      "execution_count": 91,
      "outputs": [
        {
          "output_type": "stream",
          "text": [
            "size      1\n",
            "color     1\n",
            "gender    3\n",
            "price     2\n",
            "weight    1\n",
            "bought    0\n",
            "dtype: int64\n",
            "     size  color  gender   price  weight bought\n",
            "2       S  black    male  179.00     NaN    yes\n",
            "3  unisex   pink    male  179.00   310.0    yes\n",
            "4      XS   pink  female  230.00   410.0     no\n",
            "5       L  black    male   89.00   350.0     no\n",
            "6       L  brown    male  169.25   250.0    yes\n",
            "8       S   pink  female  169.25   480.0     no\n",
            "     size  color  gender   price  weight bought          cost\n",
            "2       S  black    male  179.00     NaN    yes  normal_price\n",
            "3  unisex   pink    male  179.00   310.0    yes  normal_price\n",
            "4      XS   pink  female  230.00   410.0     no     expensive\n",
            "5       L  black    male   89.00   350.0     no         cheap\n",
            "6       L  brown    male  169.25   250.0    yes  normal_price\n",
            "8       S   pink  female  169.25   480.0     no  normal_price\n",
            "     size  color  gender   price  weight bought          cost  bought_yes\n",
            "2       S  black    male  179.00     NaN    yes  normal_price           1\n",
            "3  unisex   pink    male  179.00   310.0    yes  normal_price           1\n",
            "4      XS   pink  female  230.00   410.0     no     expensive           0\n",
            "5       L  black    male   89.00   350.0     no         cheap           0\n",
            "6       L  brown    male  169.25   250.0    yes  normal_price           1\n",
            "8       S   pink  female  169.25   480.0     no  normal_price           0\n",
            "X_train \n",
            "      size  color  gender   price  weight bought          cost\n",
            "4      XS   pink  female  230.00   410.0     no     expensive\n",
            "6       L  brown    male  169.25   250.0    yes  normal_price\n",
            "5       L  black    male   89.00   350.0     no         cheap\n",
            "3  unisex   pink    male  179.00   310.0    yes  normal_price\n",
            "X_test \n",
            "   size  color  gender   price  weight bought          cost\n",
            "2    S  black    male  179.00     NaN    yes  normal_price\n",
            "8    S   pink  female  169.25   480.0     no  normal_price\n",
            "Y_train \n",
            " 4    0\n",
            "6    1\n",
            "5    0\n",
            "3    1\n",
            "Name: bought_yes, dtype: int64\n",
            "Y_test \n",
            " 2    1\n",
            "8    0\n",
            "Name: bought_yes, dtype: int64\n"
          ],
          "name": "stdout"
        }
      ]
    }
  ]
}