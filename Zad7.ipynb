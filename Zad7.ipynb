{
  "nbformat": 4,
  "nbformat_minor": 0,
  "metadata": {
    "colab": {
      "name": "Test.ipynb",
      "provenance": [],
      "collapsed_sections": [],
      "authorship_tag": "ABX9TyOUBeki7csvaMxk/Xh9O9+U",
      "include_colab_link": true
    },
    "kernelspec": {
      "name": "python3",
      "display_name": "Python 3"
    }
  },
  "cells": [
    {
      "cell_type": "markdown",
      "metadata": {
        "id": "view-in-github",
        "colab_type": "text"
      },
      "source": [
        "<a href=\"https://colab.research.google.com/github/justyna-b/175IC-machine-learning/blob/main/Zad7.ipynb\" target=\"_parent\"><img src=\"https://colab.research.google.com/assets/colab-badge.svg\" alt=\"Open In Colab\"/></a>"
      ]
    },
    {
      "cell_type": "code",
      "metadata": {
        "id": "MxTVCH0-Rc13",
        "colab": {
          "base_uri": "https://localhost:8080/"
        },
        "outputId": "f66d16cf-a359-40b8-f228-fefbe528b23d"
      },
      "source": [
        "import numpy as np\n",
        "import pandas as pd\n",
        "import plotly.express as px\n",
        "from sklearn.datasets import make_blobs\n",
        "from sklearn.cluster import DBSCAN\n",
        "import matplotlib.pyplot as plt\n",
        "from sklearn.cluster import KMeans\n",
        "\n",
        "data, _ = make_blobs(n_samples=1000, centers=3,random_state=37, cluster_std=1.3)\n",
        "df = pd.DataFrame(data, columns=['x1','x2'])\n",
        "px.scatter(df,'x1','x2')\n",
        "\n",
        "# DBSCAN\n",
        "cluster = DBSCAN(eps=0.03,min_samples=5)\n",
        "cluster.fit(data)\n",
        "df['cluster'] = cluster.labels_\n",
        "print(df['cluster'].value_counts())\n",
        "px.scatter(df,'x1','x2','cluster',color_continuous_midpoint=0)\n",
        "\n",
        "#KMEANS\n",
        "k_means_cluster = KMeans(n_clusters=3,random_state=37).fit(df)\n",
        "df['kmeans'] = k_means_cluster.labels_\n",
        "px.scatter(df, 'x1', 'x2', 'kmeans')\n",
        "\n",
        "def compare():\n",
        "  dbscan_counts = df['cluster'].value_counts()\n",
        "  print(\"dbscan_counts\", \"\\n\", dbscan_counts )\n",
        "  k_means_counts = df['kmeans'].value_counts()\n",
        "  print(\"k_means_counts\", \"\\n\",  k_means_counts)\n",
        "\n",
        "compare()\n",
        "\n",
        "\n",
        "\n",
        "\n"
      ],
      "execution_count": 36,
      "outputs": [
        {
          "output_type": "stream",
          "text": [
            "-1    1000\n",
            "Name: cluster, dtype: int64\n",
            "dbscan_counts \n",
            " -1    1000\n",
            "Name: cluster, dtype: int64\n",
            "k_means_counts \n",
            " 1    337\n",
            "0    333\n",
            "2    330\n",
            "Name: kmeans, dtype: int64\n"
          ],
          "name": "stdout"
        }
      ]
    },
    {
      "cell_type": "code",
      "metadata": {
        "id": "J5UykA5UXP5Z"
      },
      "source": [
        ""
      ],
      "execution_count": null,
      "outputs": []
    }
  ]
}